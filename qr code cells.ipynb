{
 "cells": [
  {
   "cell_type": "code",
   "execution_count": 3,
   "id": "fb5594a7",
   "metadata": {},
   "outputs": [],
   "source": [
    "import qrcode\n",
    "import os\n",
    "import serial\n",
    "import time\n",
    "\n",
    "com_port = \"COM3\"\n",
    "baud_rate = 115200\n",
    "ssid = \"\"\n",
    "password = \"\""
   ]
  },
  {
   "cell_type": "code",
   "execution_count": 32,
   "id": "5a9c612c",
   "metadata": {},
   "outputs": [
    {
     "name": "stdout",
     "output_type": "stream",
     "text": [
      "Got this line:  SSID: KAPO_TO\n",
      "Got this line:  password: 66666699\n"
     ]
    }
   ],
   "source": [
    "ser = serial.Serial(com_port, baud_rate, timeout=3)\n",
    "time.sleep(2)\n",
    "\n",
    "while True:\n",
    "    ser_line = ser.readline().decode(\"utf-8\").strip()\n",
    "    print(\"Got this line: \", ser_line)\n",
    "    if ser_line.startswith(\"SSID:\") :\n",
    "        ssid = ser_line.split(\":\", 1)[1].strip()\n",
    "    elif ser_line.startswith(\"password:\"):\n",
    "        password = ser_line.split(\":\", 1)[1].strip()\n",
    "    if ssid and password:\n",
    "        break\n",
    "\n",
    "ser.close()"
   ]
  },
  {
   "cell_type": "code",
   "execution_count": 4,
   "id": "dbb75f91",
   "metadata": {},
   "outputs": [],
   "source": [
    "# Where we save QR code to\n",
    "qrLocation = os.path.join(os.environ[\"USERPROFILE\"], \"Desktop/qr code.jpg\")\n",
    "# Create a QR code object with a larger size and higher error correction\n",
    "qr = qrcode.QRCode(version=3, box_size=20, border=10, error_correction=qrcode.constants.ERROR_CORRECT_H)\n",
    "\n",
    "if not ssid:\n",
    "    ssid = \"KAPO_TEAM\"\n",
    "\n",
    "if not password:\n",
    "    password = \"66666666\"\n",
    "\n",
    "wifi = f\"WIFI:S:{ssid};T:WPA;P:{password};;\"\n",
    "\n",
    "# Add the data to the QR code object\n",
    "qr.add_data(wifi)\n",
    "\n",
    "# Make the QR code\n",
    "qr.make(fit=True)\n",
    "\n",
    "# Create an image from the QR code with a black fill color and white background\n",
    "img = qr.make_image(fill_color=\"black\", back_color=\"white\")\n",
    "\n",
    "# Save the QR code image\n",
    "img.save(qrLocation, 'JPEG')"
   ]
  }
 ],
 "metadata": {
  "kernelspec": {
   "display_name": "Python 3",
   "language": "python",
   "name": "python3"
  },
  "language_info": {
   "codemirror_mode": {
    "name": "ipython",
    "version": 3
   },
   "file_extension": ".py",
   "mimetype": "text/x-python",
   "name": "python",
   "nbconvert_exporter": "python",
   "pygments_lexer": "ipython3",
   "version": "3.10.0"
  }
 },
 "nbformat": 4,
 "nbformat_minor": 5
}
